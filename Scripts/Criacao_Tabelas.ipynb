{
 "cells": [
  {
   "cell_type": "code",
   "execution_count": 3,
   "id": "08f00ebd",
   "metadata": {},
   "outputs": [
    {
     "name": "stderr",
     "output_type": "stream",
     "text": [
      "WARNING: Using incubator modules: jdk.incubator.vector\n",
      "Using Spark's default log4j profile: org/apache/spark/log4j2-defaults.properties\n",
      "25/10/22 15:15:12 WARN Utils: Your hostname, codespaces-ebd811, resolves to a loopback address: 127.0.0.1; using 10.0.10.179 instead (on interface eth0)\n",
      "25/10/22 15:15:12 WARN Utils: Set SPARK_LOCAL_IP if you need to bind to another address\n",
      "Using Spark's default log4j profile: org/apache/spark/log4j2-defaults.properties\n",
      "Setting default log level to \"WARN\".\n",
      "To adjust logging level use sc.setLogLevel(newLevel). For SparkR, use setLogLevel(newLevel).\n",
      "25/10/22 15:15:13 WARN NativeCodeLoader: Unable to load native-hadoop library for your platform... using builtin-java classes where applicable\n"
     ]
    },
    {
     "name": "stdout",
     "output_type": "stream",
     "text": [
      "SparkSession criada com sucesso!\n"
     ]
    }
   ],
   "source": [
    "from pyspark.sql import SparkSession\n",
    "\n",
    "# Cria uma sessão Spark\n",
    "spark = SparkSession.builder \\\n",
    "    .appName(\"ExemploSparkVSCode\") \\\n",
    "    .getOrCreate()\n",
    "\n",
    "print(\"SparkSession criada com sucesso!\")"
   ]
  },
  {
   "cell_type": "code",
   "execution_count": 5,
   "id": "5b48f734",
   "metadata": {},
   "outputs": [
    {
     "name": "stdout",
     "output_type": "stream",
     "text": [
      "+----------+----------+------------+----------+----------+---------------------+--------------------+-------------------+\n",
      "|id_posicao|id_cliente|ticker_ativo|nome_ativo|quantidade|custo_medio_da_compra|data_ultima_operacao|valor_mercado_atual|\n",
      "+----------+----------+------------+----------+----------+---------------------+--------------------+-------------------+\n",
      "|         1|       328|       VALE3|VALE3 S.A.|     34.76|                31.13|          2025-04-11|            1118.79|\n",
      "|         2|       378|       VALE3|VALE3 S.A.|    679.93|                89.76|          2020-10-19|           58111.02|\n",
      "|         3|       217|       PETR4|PETR4 S.A.|      39.5|                25.77|          2022-03-02|            1224.77|\n",
      "|         4|        14|       WEGE3|WEGE3 S.A.|    206.85|                66.74|          2025-07-04|           16938.46|\n",
      "|         5|       113|       RENT3|RENT3 S.A.|    593.37|                 81.9|          2024-04-25|           43926.79|\n",
      "|         6|       413|       ITUB4|ITUB4 S.A.|    701.16|                37.32|          2025-01-06|           25991.65|\n",
      "|         7|       491|       MGLU3|MGLU3 S.A.|    111.19|                41.09|          2025-08-05|            5095.98|\n",
      "|         8|       177|       LREN3|LREN3 S.A.|    271.88|                 9.13|          2021-08-14|            2918.29|\n",
      "|         9|        64|       BBAS3|BBAS3 S.A.|     88.01|                32.85|          2023-01-20|             3692.5|\n",
      "|        10|       454|       MGLU3|MGLU3 S.A.|    581.58|                71.93|          2025-04-29|           38799.93|\n",
      "|        11|       117|       ABEV3|ABEV3 S.A.|    985.37|                86.26|          2025-06-13|          120687.85|\n",
      "|        12|       195|       ABEV3|ABEV3 S.A.|    458.88|                84.24|          2024-04-28|           38562.99|\n",
      "|        13|       182|       BBDC4|BBDC4 S.A.|    673.47|                71.67|          2021-01-11|           63236.76|\n",
      "|        14|        37|       LREN3|LREN3 S.A.|    638.63|                55.74|          2023-12-30|           37266.27|\n",
      "|        15|       237|       BBAS3|BBAS3 S.A.|    277.25|                92.91|          2025-06-18|           33819.31|\n",
      "|        16|       113|       MGLU3|MGLU3 S.A.|    844.42|                78.72|          2023-05-13|           68960.74|\n",
      "|        17|        17|       MGLU3|MGLU3 S.A.|    407.15|                11.29|          2024-05-07|            6655.51|\n",
      "|        18|       291|       MGLU3|MGLU3 S.A.|     220.5|                52.43|          2024-03-27|           16541.33|\n",
      "|        19|       330|       RENT3|RENT3 S.A.|    151.44|                18.26|          2025-03-05|            3724.83|\n",
      "|        20|       276|       ABEV3|ABEV3 S.A.|    749.54|                 45.7|          2025-06-08|           42821.57|\n",
      "+----------+----------+------------+----------+----------+---------------------+--------------------+-------------------+\n",
      "only showing top 20 rows\n"
     ]
    }
   ],
   "source": [
    "df_carteiras = spark.read.csv('/workspaces/Apex-Financial_Group/Dados/carteira_investimentos.csv', header=True, inferSchema=True)\n",
    "df_carteiras.createOrReplaceGlobalTempView(\"carteiras\")\n",
    "df_carteiras.show()"
   ]
  },
  {
   "cell_type": "code",
   "execution_count": 6,
   "id": "1c55719f",
   "metadata": {},
   "outputs": [
    {
     "name": "stdout",
     "output_type": "stream",
     "text": [
      "+-----------+----------+--------------------+---------+-------------+---------------+--------------------+----------+-----------+-----------+----------------+\n",
      "|id_trasacao|id_cliente| data_hora_transacao|valor_brl|tipo_trasacao|categoria_gasto|       merchant_name|  latitude|  longitude|dispositivo|status_transacao|\n",
      "+-----------+----------+--------------------+---------+-------------+---------------+--------------------+----------+-----------+-----------+----------------+\n",
      "|          1|       393|2024-07-04 16:16:...|  2911.68|      crédito|         outros|            Caldeira| 27.728293| 172.337451|     tablet|       rejeitada|\n",
      "|          2|       183|2025-06-13 09:36:...|  2381.75|      crédito|          lazer|Carvalho Fogaça e...| 26.490292|-176.880663|     tablet|       rejeitada|\n",
      "|          3|        76|2023-01-21 07:40:...|  3841.16|       débito|    alimentação|Camargo Correia L...| -79.19378| -108.23092|        web|       rejeitada|\n",
      "|          4|       255|2022-08-08 04:27:...|  1157.95|       débito|    alimentação|             Andrade|-46.966442| 177.665989|    celular|        pendente|\n",
      "|          5|        28|2022-04-29 20:36:...|  4152.41|      crédito|        moradia|                Rios|-18.649958|-116.223865|    celular|        aprovada|\n",
      "|          6|       196|2025-03-04 15:35:...|   3024.9|      crédito|     transporte|           Rodrigues|-55.792198|  -5.577247|        web|        pendente|\n",
      "|          7|       320|2025-05-23 19:08:...|   486.19|       débito|        moradia|          Montenegro| 14.380727|-109.445675|     tablet|       rejeitada|\n",
      "|          8|       406|2024-01-21 21:00:...|  2332.78|      crédito|        moradia|          Vieira S/A| -56.14396|  -96.49403|        web|       rejeitada|\n",
      "|          9|       259|2023-12-26 12:29:...|  1312.02|      crédito|         outros|     Vargas e Filhos| -26.51369|-152.061327|     tablet|        pendente|\n",
      "|         10|        10|2024-04-14 16:54:...|  4763.14|       débito|          lazer|                Lima| 70.279273|-175.689523|    celular|       rejeitada|\n",
      "|         11|       231|2023-10-27 16:21:...|  1576.22|      crédito|          lazer|              da Paz|  40.44064|-135.646467|        web|        aprovada|\n",
      "|         12|        17|2025-03-28 05:10:...|   888.46|      crédito|        moradia|Pinto Cassiano e ...| 47.234899| -79.680173|    celular|       rejeitada|\n",
      "|         13|       221|2023-07-28 22:30:...|   676.77|      crédito|          lazer|     da Luz e Filhos|-23.601318| 177.733434|    celular|        pendente|\n",
      "|         14|       346|2025-04-25 13:26:...|  2455.32|      crédito|          lazer|     Melo Santos S/A|  44.84424| 148.082055|     tablet|        aprovada|\n",
      "|         15|       260|2025-01-02 12:45:...|   283.41|      crédito|          lazer|da Conceição Camp...| 17.718629| -159.40218|     tablet|       rejeitada|\n",
      "|         16|       316|2022-07-08 02:39:...|  3384.06|      crédito|          saúde|Casa Grande Lima S/A| 75.481696| -72.817216|    celular|        aprovada|\n",
      "|         17|       303|2024-07-23 04:23:...|   230.37|      crédito|          saúde|         Garcia - ME| 50.920879| -15.478087|     tablet|        pendente|\n",
      "|         18|        14|2025-08-01 12:44:...|  3827.14|      crédito|          lazer|Câmara Fernandes ...| 38.632993|-147.063117|    celular|       rejeitada|\n",
      "|         19|       177|2023-06-24 06:35:...|  4959.77|      crédito|          saúde|         da Rosa S/A|-17.724803|  15.193459|    celular|        pendente|\n",
      "|         20|       126|2024-09-29 05:15:...|  1241.83|      crédito|       educação|               Silva| 22.225939| -47.409723|    celular|        pendente|\n",
      "+-----------+----------+--------------------+---------+-------------+---------------+--------------------+----------+-----------+-----------+----------------+\n",
      "only showing top 20 rows\n"
     ]
    }
   ],
   "source": [
    "df_historico_transacoes = spark.read.csv('/workspaces/Apex-Financial_Group/Dados/historico_transacoes.csv', header=True, inferSchema=True)\n",
    "df_historico_transacoes.createOrReplaceGlobalTempView(\"transacoes\")\n",
    "df_historico_transacoes.show()"
   ]
  },
  {
   "cell_type": "code",
   "execution_count": 7,
   "id": "32ee220b",
   "metadata": {},
   "outputs": [
    {
     "name": "stdout",
     "output_type": "stream",
     "text": [
      "+----------+-------------+--------------------+--------------+---------------+---------+-----------------+------+--------------------+------------------+---------------------+----------------+------------+-----------------+-----------------+\n",
      "|id_cliente|data_cadastro|       nome_completo|           cpf|data_nascimento|   genero|           cidade|estado|           profissao|renda_mensal_bruta|score_credito_inicial|segmento_cliente|status_conta|data_ultimo_login|data_cancelamento|\n",
      "+----------+-------------+--------------------+--------------+---------------+---------+-----------------+------+--------------------+------------------+---------------------+----------------+------------+-----------------+-----------------+\n",
      "|         1|   2023-10-29|   Davi Miguel Sousa|189.430.652-05|     1951-01-29|Masculino|       Montenegro|    RN|          Almoxarife|          15218.68|               434.69|         Premium|   Cancelada|       2024-04-27|             NULL|\n",
      "|         2|   2023-06-08|     Hellena Machado|940.613.257-52|     1991-02-27|    Outro|         Teixeira|    MT|Caça-talentos/Olh...|          18005.32|               347.82|        Standard|       Ativa|       2024-12-21|             NULL|\n",
      "|         3|   2021-02-02|     Raul Nascimento|169.428.530-89|     1955-03-28|Masculino|        Aparecida|    RO|           Embalador|           5804.23|               631.11|         Economy|       Ativa|       2024-12-08|       2023-10-30|\n",
      "|         4|   2024-06-29|      Mateus da Mota|752.961.830-02|     2006-10-08|    Outro|       Nascimento|    SC|    Engenheiro civil|          11581.42|               421.24|         Economy|     Inativa|       2025-06-18|             NULL|\n",
      "|         5|   2021-06-11|   Hellena Rodrigues|503.682.719-86|     1971-08-21|Masculino|            Nunes|    RR|            Forneiro|          15537.94|               387.81|        Standard|     Inativa|       2025-08-01|             NULL|\n",
      "|         6|   2021-09-09| Natália Casa Grande|423.596.871-82|     1978-08-01|Masculino| Fonseca de Goiás|    BA|         Panfleteiro|          19208.44|               485.13|         Premium|     Inativa|       2025-03-05|             NULL|\n",
      "|         7|   2023-02-04|      Otávio Peixoto|168.437.250-07|     1993-06-18| Feminino|        Rodrigues|    PI|   Engenheiro físico|          12668.93|               743.92|         Economy|     Inativa|       2025-04-11|       2023-06-25|\n",
      "|         8|   2024-06-21|        Rafael Abreu|482.907.153-23|     1969-05-11| Feminino|         Nogueira|    SP|       Perfusionista|            2957.8|               461.25|         Economy|   Cancelada|       2024-10-23|             NULL|\n",
      "|         9|   2025-03-22|Luiz Miguel das N...|309.485.762-00|     1984-05-14| Feminino|          Ribeiro|    PR| Polidor de produção|          12181.01|               687.51|         Premium|   Cancelada|       2025-06-02|             NULL|\n",
      "|        10|   2021-06-14|       Vitor Hugo Sá|346.572.981-19|     1980-03-26| Feminino|          da Cruz|    ES|Atleta de arremes...|           19726.6|               770.42|         Premium|     Inativa|       2023-12-26|             NULL|\n",
      "|        11|   2022-04-26|       André Barbosa|031.926.785-77|     1983-10-01|    Outro|         Nogueira|    BA|          Violonista|          16931.04|               389.46|        Standard|       Ativa|       2023-01-29|             NULL|\n",
      "|        12|   2025-04-22| Maria Luísa Correia|196.235.470-99|     1982-09-30|    Outro|           Araújo|    MG|          Windsurfer|          18828.11|               656.42|         Economy|   Cancelada|       2025-06-16|             NULL|\n",
      "|        13|   2022-04-28|Vitor Gabriel Mac...|269.731.045-25|     1999-08-09|    Outro|          Rezende|    PI|Agente de defesa ...|            6029.0|               554.24|        Standard|   Cancelada|       2023-02-22|             NULL|\n",
      "|        14|   2025-06-22|    Nicolas Mendonça|736.018.952-77|     2003-05-11|Masculino|   da Paz de Lima|    RR|         Zootecnista|          14165.36|               763.57|         Premium|       Ativa|       2025-08-09|             NULL|\n",
      "|        15|   2025-08-09|    Gabriel da Rocha|308.527.461-80|     1981-11-11| Feminino|           Araújo|    PE|            Bancário|           8921.55|                336.4|         Economy|   Cancelada|       2025-08-15|             NULL|\n",
      "|        16|   2024-11-19|       Nathan Campos|930.478.215-50|     1953-08-08|    Outro|da Costa Paulista|    MG|            Chaveiro|          10735.78|               786.58|         Economy|     Inativa|       2024-12-07|             NULL|\n",
      "|        17|   2023-12-27|     Anthony Marques|918.476.205-58|     1967-01-11|Masculino|          da Cruz|    MS|            Escrivão|           6062.61|               608.75|        Standard|   Cancelada|       2024-07-03|             NULL|\n",
      "|        18|   2021-06-01| Vitória Albuquerque|841.720.953-05|     1997-12-26|    Outro|  da Paz do Oeste|    RR|   Ginasta artística|           8888.91|               420.63|         Premium|   Cancelada|       2024-05-18|             NULL|\n",
      "|        19|   2021-08-23|         Isis Aragão|164.082.973-31|     1986-05-31|Masculino|            Sousa|    PB|            Porteiro|           17430.4|               384.06|         Premium|   Cancelada|       2022-09-11|             NULL|\n",
      "|        20|   2024-02-27|  Srta. Ísis Andrade|582.310.794-32|     1982-02-28|Masculino| Costela de Goiás|    RO|          Cadeirinha|            8618.2|               627.74|        Standard|   Cancelada|       2024-04-27|             NULL|\n",
      "+----------+-------------+--------------------+--------------+---------------+---------+-----------------+------+--------------------+------------------+---------------------+----------------+------------+-----------------+-----------------+\n",
      "only showing top 20 rows\n"
     ]
    }
   ],
   "source": [
    "df_registro_clientes = spark.read.csv('/workspaces/Apex-Financial_Group/Dados/registo_clientes.csv', header=True, inferSchema=True)\n",
    "df_registro_clientes.createOrReplaceGlobalTempView(\"registro_clientes\")\n",
    "df_registro_clientes.show()"
   ]
  },
  {
   "cell_type": "code",
   "execution_count": 9,
   "id": "a8116bdb",
   "metadata": {},
   "outputs": [
    {
     "name": "stdout",
     "output_type": "stream",
     "text": [
      "+--------------+----------+----------------+--------------------+-----------------+-----------+----------+--------+-------+---------------------+---------------------+\n",
      "|id_solicitacao|id_cliente|data_solicitacao|valor_solicitado_brl|taxa_juros_mensal|prazo_meses|finalizade|aprovado|default|dias_atraso_historico|score_risco_calculado|\n",
      "+--------------+----------+----------------+--------------------+-----------------+-----------+----------+--------+-------+---------------------+---------------------+\n",
      "|             1|       493|      2023-02-07|            20874.01|             0.77|         24| Concluída|   false|  false|                   89|               776.34|\n",
      "|             2|       128|      2025-08-01|            12753.96|              4.3|         36|  Pendente|    true|  false|                   18|               617.58|\n",
      "|             3|       138|      2024-03-15|             4238.06|             4.08|          6|  Pendente|    true|  false|                   65|               712.39|\n",
      "|             4|       356|      2022-11-12|            18769.02|             4.78|         24| Concluída|   false|  false|                  111|               725.77|\n",
      "|             5|       376|      2025-08-11|            31924.61|             3.64|          6|  Pendente|    true|  false|                   27|               832.47|\n",
      "|             6|       423|      2024-12-23|            41503.01|             2.02|         48| Concluída|    true|  false|                   72|               768.83|\n",
      "|             7|       404|      2025-03-16|             2896.26|             0.95|         36| Concluída|    true|  false|                   15|               811.19|\n",
      "|             8|        81|      2024-09-24|            47922.57|             1.41|         60| Concluída|    true|   true|                  112|                657.5|\n",
      "|             9|        82|      2021-12-26|            43891.45|             0.92|         24|  Pendente|   false|  false|                   10|               504.51|\n",
      "|            10|       463|      2024-12-18|            31467.41|             3.77|         12|  Pendente|    true|   true|                   83|               350.16|\n",
      "|            11|        49|      2024-12-31|             7068.64|             1.52|         60|  Pendente|    true|  false|                    1|               304.43|\n",
      "|            12|       176|      2023-04-04|            49413.67|              2.4|         12|  Pendente|   false|  false|                    9|               425.92|\n",
      "|            13|        46|      2025-07-21|             5570.14|             1.91|         24| Concluída|   false|  false|                   48|                725.4|\n",
      "|            14|       386|      2023-08-11|            32258.02|             3.55|          6| Concluída|   false|  false|                   78|               657.51|\n",
      "|            15|       226|      2023-02-14|            37539.31|             4.64|         48|  Pendente|    true|  false|                  110|               419.48|\n",
      "|            16|       460|      2024-10-16|            29683.91|             2.23|         36|  Pendente|    true|  false|                  101|               376.91|\n",
      "|            17|       142|      2024-11-04|            30249.45|             3.75|         24| Concluída|    true|  false|                  108|               765.89|\n",
      "|            18|       449|      2024-09-18|            25721.37|             3.87|         24| Concluída|    true|  false|                  100|               793.85|\n",
      "|            19|       489|      2025-07-04|            12433.55|             3.37|          6| Concluída|    true|  false|                   46|               813.66|\n",
      "|            20|        68|      2025-01-04|            21332.74|             2.96|         12|  Pendente|    true|  false|                   98|               340.15|\n",
      "+--------------+----------+----------------+--------------------+-----------------+-----------+----------+--------+-------+---------------------+---------------------+\n",
      "only showing top 20 rows\n"
     ]
    }
   ],
   "source": [
    "df_solicitacoes_emprestimo = spark.read.csv('/workspaces/Apex-Financial_Group/Dados/solicitacoes_emprestimo.csv', header=True, inferSchema=True)\n",
    "df_solicitacoes_emprestimo.createOrReplaceGlobalTempView(\"sol_emprestimo\")\n",
    "df_solicitacoes_emprestimo.show()"
   ]
  },
  {
   "cell_type": "code",
   "execution_count": null,
   "id": "ea444b51",
   "metadata": {},
   "outputs": [],
   "source": []
  }
 ],
 "metadata": {
  "kernelspec": {
   "display_name": "Python 3",
   "language": "python",
   "name": "python3"
  },
  "language_info": {
   "codemirror_mode": {
    "name": "ipython",
    "version": 3
   },
   "file_extension": ".py",
   "mimetype": "text/x-python",
   "name": "python",
   "nbconvert_exporter": "python",
   "pygments_lexer": "ipython3",
   "version": "3.12.1"
  }
 },
 "nbformat": 4,
 "nbformat_minor": 5
}
