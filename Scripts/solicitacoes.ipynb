{
 "cells": [
  {
   "cell_type": "code",
   "execution_count": 105,
   "id": "9207d4f4",
   "metadata": {},
   "outputs": [],
   "source": [
    "from pyspark.sql import SparkSession\n",
    "import pyspark.sql.functions as F"
   ]
  },
  {
   "cell_type": "code",
   "execution_count": 106,
   "id": "56953985",
   "metadata": {},
   "outputs": [],
   "source": [
    "import requests"
   ]
  },
  {
   "cell_type": "code",
   "execution_count": 107,
   "id": "a26d7de6",
   "metadata": {},
   "outputs": [],
   "source": [
    "spark = SparkSession.builder \\\n",
    "    .appName(\"Apex Financial Group\")\\\n",
    "    .getOrCreate()"
   ]
  },
  {
   "cell_type": "code",
   "execution_count": 108,
   "id": "99edafb5",
   "metadata": {},
   "outputs": [],
   "source": [
    "carteira_investimentos = spark.read.csv(\"/home/wells/Documentos/Apex Financial Group/dados/carteira_investimentos.csv\", header=True, inferSchema=True)"
   ]
  },
  {
   "cell_type": "code",
   "execution_count": 109,
   "id": "6cda8140",
   "metadata": {},
   "outputs": [],
   "source": [
    "historico_transacoes = spark.read.csv(\"/home/wells/Documentos/Apex Financial Group/dados/historico_transacoes.csv\", header=True, inferSchema=True)"
   ]
  },
  {
   "cell_type": "code",
   "execution_count": 110,
   "id": "fbda3d1a",
   "metadata": {},
   "outputs": [],
   "source": [
    "registo_cllientes = spark.read.csv(\"/home/wells/Documentos/Apex Financial Group/dados/registo_clientes.csv\", header=True, inferSchema=True)"
   ]
  },
  {
   "cell_type": "code",
   "execution_count": 111,
   "id": "18b7c993",
   "metadata": {},
   "outputs": [],
   "source": [
    "solicitacoes_emprestimos = spark.read.csv(\"/home/wells/Documentos/Apex Financial Group/dados/solicitacoes_emprestimo.csv\", header=True, inferSchema=True)"
   ]
  },
  {
   "cell_type": "markdown",
   "id": "f4e5c923",
   "metadata": {},
   "source": [
    "Relação cliente × empréstimos:\n",
    "\n",
    "Para cada cliente, conte o número de solicitações de empréstimo e o valor total solicitado.\n"
   ]
  },
  {
   "cell_type": "code",
   "execution_count": 118,
   "id": "09f28ee7",
   "metadata": {},
   "outputs": [],
   "source": [
    "carteira_investimentos.createOrReplaceTempView(\"carteira\")\n",
    "historico_transacoes.createOrReplaceTempView(\"transacoes\")\n",
    "registo_cllientes.createOrReplaceTempView(\"clientes\")\n",
    "solicitacoes_emprestimos.createOrReplaceTempView(\"solicitacoes\")"
   ]
  },
  {
   "cell_type": "code",
   "execution_count": 113,
   "id": "63ebc5cd",
   "metadata": {},
   "outputs": [
    {
     "name": "stdout",
     "output_type": "stream",
     "text": [
      "+--------------+----------+----------------+--------------------+-----------------+-----------+----------+--------+-------+---------------------+---------------------+\n",
      "|id_solicitacao|id_cliente|data_solicitacao|valor_solicitado_brl|taxa_juros_mensal|prazo_meses|finalizade|aprovado|default|dias_atraso_historico|score_risco_calculado|\n",
      "+--------------+----------+----------------+--------------------+-----------------+-----------+----------+--------+-------+---------------------+---------------------+\n",
      "|             1|       493|      2023-02-07|            20874.01|             0.77|         24| Concluída|   false|  false|                   89|               776.34|\n",
      "|             2|       128|      2025-08-01|            12753.96|              4.3|         36|  Pendente|    true|  false|                   18|               617.58|\n",
      "|             3|       138|      2024-03-15|             4238.06|             4.08|          6|  Pendente|    true|  false|                   65|               712.39|\n",
      "|             4|       356|      2022-11-12|            18769.02|             4.78|         24| Concluída|   false|  false|                  111|               725.77|\n",
      "|             5|       376|      2025-08-11|            31924.61|             3.64|          6|  Pendente|    true|  false|                   27|               832.47|\n",
      "|             6|       423|      2024-12-23|            41503.01|             2.02|         48| Concluída|    true|  false|                   72|               768.83|\n",
      "|             7|       404|      2025-03-16|             2896.26|             0.95|         36| Concluída|    true|  false|                   15|               811.19|\n",
      "|             8|        81|      2024-09-24|            47922.57|             1.41|         60| Concluída|    true|   true|                  112|                657.5|\n",
      "|             9|        82|      2021-12-26|            43891.45|             0.92|         24|  Pendente|   false|  false|                   10|               504.51|\n",
      "|            10|       463|      2024-12-18|            31467.41|             3.77|         12|  Pendente|    true|   true|                   83|               350.16|\n",
      "|            11|        49|      2024-12-31|             7068.64|             1.52|         60|  Pendente|    true|  false|                    1|               304.43|\n",
      "|            12|       176|      2023-04-04|            49413.67|              2.4|         12|  Pendente|   false|  false|                    9|               425.92|\n",
      "|            13|        46|      2025-07-21|             5570.14|             1.91|         24| Concluída|   false|  false|                   48|                725.4|\n",
      "|            14|       386|      2023-08-11|            32258.02|             3.55|          6| Concluída|   false|  false|                   78|               657.51|\n",
      "|            15|       226|      2023-02-14|            37539.31|             4.64|         48|  Pendente|    true|  false|                  110|               419.48|\n",
      "|            16|       460|      2024-10-16|            29683.91|             2.23|         36|  Pendente|    true|  false|                  101|               376.91|\n",
      "|            17|       142|      2024-11-04|            30249.45|             3.75|         24| Concluída|    true|  false|                  108|               765.89|\n",
      "|            18|       449|      2024-09-18|            25721.37|             3.87|         24| Concluída|    true|  false|                  100|               793.85|\n",
      "|            19|       489|      2025-07-04|            12433.55|             3.37|          6| Concluída|    true|  false|                   46|               813.66|\n",
      "|            20|        68|      2025-01-04|            21332.74|             2.96|         12|  Pendente|    true|  false|                   98|               340.15|\n",
      "+--------------+----------+----------------+--------------------+-----------------+-----------+----------+--------+-------+---------------------+---------------------+\n",
      "only showing top 20 rows\n"
     ]
    }
   ],
   "source": [
    "solicitacoes_emprestimos.show()"
   ]
  },
  {
   "cell_type": "code",
   "execution_count": 114,
   "id": "7edf16a6",
   "metadata": {},
   "outputs": [
    {
     "name": "stdout",
     "output_type": "stream",
     "text": [
      "+----------+------------------+\n",
      "|id_cliente|total_solicitacoes|\n",
      "+----------+------------------+\n",
      "|       465|                 6|\n",
      "|        22|                 5|\n",
      "|        41|                 5|\n",
      "|        12|                 4|\n",
      "|        47|                 4|\n",
      "|        13|                 4|\n",
      "|        92|                 4|\n",
      "|       257|                 4|\n",
      "|       395|                 4|\n",
      "|        29|                 4|\n",
      "|       170|                 4|\n",
      "|        68|                 4|\n",
      "|       407|                 4|\n",
      "|       393|                 4|\n",
      "|        61|                 3|\n",
      "|       255|                 3|\n",
      "|       202|                 3|\n",
      "|       291|                 3|\n",
      "|       310|                 3|\n",
      "|         3|                 3|\n",
      "+----------+------------------+\n",
      "only showing top 20 rows\n"
     ]
    }
   ],
   "source": [
    "spark.sql(\"\"\"\n",
    "    SELECT c.id_cliente, count(distinct s.id_solicitacao) as total_solicitacoes\n",
    "    FROM clientes c\n",
    "    LEFT JOIN solicitacoes s ON c.id_cliente = s.id_cliente\n",
    "    GROUP BY c.id_cliente\n",
    "    ORDER BY total_solicitacoes DESC\n",
    "\"\"\").show()"
   ]
  },
  {
   "cell_type": "markdown",
   "id": "dd46a0e1",
   "metadata": {},
   "source": [
    "listagem detalhada dos clientes que possuem registros em todas as quatro tabelas analisadas (clientes, solicitacoes, carteira e transacoes)"
   ]
  },
  {
   "cell_type": "code",
   "execution_count": 115,
   "id": "318e0d9e",
   "metadata": {},
   "outputs": [
    {
     "name": "stdout",
     "output_type": "stream",
     "text": [
      "+----------+--------------------+----------+---------------------+-----------+\n",
      "|id_cliente|       nome_completo|quantidade|custo_medio_da_compra|dispositivo|\n",
      "+----------+--------------------+----------+---------------------+-----------+\n",
      "|       277|         Renan Sales|    999.91|                38.25|        web|\n",
      "|       277|         Renan Sales|    999.91|                38.25|        web|\n",
      "|        20|  Srta. Ísis Andrade|    995.97|                16.03|        web|\n",
      "|       117|  José Pedro Rezende|    985.37|                86.26|    celular|\n",
      "|        53|Dr. Vitor Hugo An...|    982.56|                13.01|        web|\n",
      "|        53|Dr. Vitor Hugo An...|    982.56|                13.01|        web|\n",
      "|         2|     Hellena Machado|    978.71|                48.99|        web|\n",
      "|         2|     Hellena Machado|    978.71|                48.99|    celular|\n",
      "|         2|     Hellena Machado|    978.71|                48.99|    celular|\n",
      "|         2|     Hellena Machado|    978.71|                48.99|        web|\n",
      "|       433|Srta. Stephany No...|     974.8|                82.75|     tablet|\n",
      "|       433|Srta. Stephany No...|     974.8|                82.75|     tablet|\n",
      "|       489|Sra. Catarina da ...|    972.17|                77.39|    celular|\n",
      "|       489|Sra. Catarina da ...|    972.17|                77.39|    celular|\n",
      "|       369|        Aurora Cunha|    969.89|                63.01|    celular|\n",
      "|       311|    Ravi Lucca Pires|     964.1|                73.24|     tablet|\n",
      "|       311|    Ravi Lucca Pires|     964.1|                73.24|        web|\n",
      "|       224|   Davi Miguel Jesus|    946.95|                26.09|     tablet|\n",
      "|       224|   Davi Miguel Jesus|    946.95|                26.09|    celular|\n",
      "|       105|       Laura Barbosa|    945.87|                 77.9|    celular|\n",
      "+----------+--------------------+----------+---------------------+-----------+\n",
      "only showing top 20 rows\n"
     ]
    }
   ],
   "source": [
    "spark.sql(\"\"\"\n",
    "    SELECT \n",
    "        c.id_cliente, \n",
    "        c.nome_completo, \n",
    "        ct.quantidade, \n",
    "        ct.custo_medio_da_compra, \n",
    "        h.dispositivo\n",
    "    FROM clientes c\n",
    "    INNER JOIN solicitacoes s ON c.id_cliente = s.id_cliente\n",
    "    INNER JOIN carteira ct ON c.id_cliente = ct.id_cliente\n",
    "    INNER JOIN transacoes h ON c.id_cliente = h.id_cliente\n",
    "    ORDER BY ct.quantidade DESC\n",
    "\"\"\").show()"
   ]
  },
  {
   "cell_type": "markdown",
   "id": "e8e336e2",
   "metadata": {},
   "source": [
    "MOSTRAR CADA AÇÃO QUE CADA CLIENTE POSSUI"
   ]
  },
  {
   "cell_type": "code",
   "execution_count": 116,
   "id": "d3f5a45d",
   "metadata": {},
   "outputs": [
    {
     "name": "stdout",
     "output_type": "stream",
     "text": [
      "+----------+--------------------+------------+----------+---------------------+\n",
      "|id_cliente|       nome_completo|ticker_ativo|quantidade|custo_medio_da_compra|\n",
      "+----------+--------------------+------------+----------+---------------------+\n",
      "|       182|       Agatha Farias|       BBDC4|    673.47|                71.67|\n",
      "|        24|      Agatha Moreira|       MGLU3|    798.18|                32.87|\n",
      "|       213|Alexandre Albuque...|       ABEV3|    223.41|                53.67|\n",
      "|       213|Alexandre Albuque...|       VALE3|    835.36|                63.49|\n",
      "|       294|      Alexia Azevedo|       BBDC4|     539.8|                 73.7|\n",
      "|       337|      Alexia Azevedo|       RENT3|     232.0|                15.28|\n",
      "|       294|      Alexia Azevedo|       BBAS3|     712.4|                44.68|\n",
      "|       200|         Alexia Melo|       MGLU3|    672.18|                80.82|\n",
      "|       161|      Alexia Pimenta|       ABEV3|    380.56|                 19.5|\n",
      "|       161|      Alexia Pimenta|       MGLU3|    736.86|                86.77|\n",
      "|       161|      Alexia Pimenta|       BBDC4|    272.96|                17.43|\n",
      "|       275|        Alice Campos|       ABEV3|     26.97|                82.25|\n",
      "|       275|        Alice Campos|       ITUB4|    199.63|                75.17|\n",
      "|       275|        Alice Campos|       PETR4|     848.7|                45.94|\n",
      "|       379|         Alice Moura|       MGLU3|    813.65|                57.86|\n",
      "|       379|         Alice Moura|       WEGE3|    102.52|                68.69|\n",
      "|        32|    Amanda Gonçalves|       BBDC4|    834.56|                 42.0|\n",
      "|        32|    Amanda Gonçalves|       VALE3|    470.74|                20.17|\n",
      "|       343|   Ana Cecília Gomes|       MGLU3|     81.35|                86.87|\n",
      "|       135|Ana Cecília da Co...|       ABEV3|     707.0|                25.38|\n",
      "+----------+--------------------+------------+----------+---------------------+\n",
      "only showing top 20 rows\n"
     ]
    }
   ],
   "source": [
    "spark.sql(\"\"\"\n",
    "    SELECT\n",
    "        c.id_cliente, \n",
    "        c.nome_completo, \n",
    "        ct.ticker_ativo,\n",
    "        ct.quantidade,\n",
    "        ct.custo_medio_da_compra\n",
    "        \n",
    "    FROM \n",
    "        clientes c\n",
    "    INNER JOIN carteira ct \n",
    "    ON c.id_cliente = ct.id_cliente\n",
    "    GROUP BY c.id_cliente, c.nome_completo, ct.ticker_ativo, ct.quantidade, ct.custo_medio_da_compra\n",
    "    ORDER BY c.nome_completo ASC;\n",
    "          \"\"\").show()"
   ]
  },
  {
   "cell_type": "markdown",
   "id": "654c642c",
   "metadata": {},
   "source": [
    "FILTRAR CLIENTES COM SCORE ALTO, ACIMA DE 400"
   ]
  },
  {
   "cell_type": "code",
   "execution_count": 126,
   "id": "bf3fbd06",
   "metadata": {},
   "outputs": [
    {
     "name": "stdout",
     "output_type": "stream",
     "text": [
      "+----------+--------------------+-----+---------------------+\n",
      "|id_cliente|       nome_completo|idade|score_credito_inicial|\n",
      "+----------+--------------------+-----+---------------------+\n",
      "|       306|    Sra. Laura Pires|   73|               849.25|\n",
      "|        44|Ana Sophia Rodrigues|   35|               847.48|\n",
      "|       399|Sra. Camila Nasci...|   43|               846.42|\n",
      "|       155|      Aylla Carvalho|   19|               845.74|\n",
      "|       290|   Caroline Teixeira|   60|               844.02|\n",
      "|       439|          Ana Vieira|   18|               843.66|\n",
      "|        88|    Vinicius Fonseca|   51|               843.34|\n",
      "|       246|        Diogo Araújo|   66|               842.59|\n",
      "|        43|Srta. Giovanna Pires|   39|               841.92|\n",
      "|        38|     Anthony Moreira|   24|               841.29|\n",
      "|       368|       Aurora Moraes|   71|               840.65|\n",
      "|       415|             Ayla Sá|   48|               839.73|\n",
      "|        65|  Ana Clara Siqueira|   49|               836.91|\n",
      "|       403|     Heloisa Almeida|   25|               834.76|\n",
      "|       202|     Letícia Correia|   59|                834.1|\n",
      "|       201| Maria Laura Pacheco|   58|               832.51|\n",
      "|       457|         Luara Sales|   19|               832.27|\n",
      "|       345|        Zoe Cassiano|   38|               831.89|\n",
      "|       189|         Rhavi Costa|   55|               831.58|\n",
      "|        47|   Dr. Thales da Paz|   37|               828.43|\n",
      "+----------+--------------------+-----+---------------------+\n",
      "only showing top 20 rows\n"
     ]
    }
   ],
   "source": [
    "spark.sql(\"\"\"\n",
    "    SELECT \n",
    "          id_cliente,\n",
    "          nome_completo,\n",
    "          FLOOR(months_between(current_date(), data_nascimento) / 12) AS idade,\n",
    "          score_credito_inicial\n",
    "    FROM \n",
    "         clientes\n",
    "    WHERE \n",
    "          score_credito_inicial > 400.00\n",
    "    ORDER BY \n",
    "          score_credito_inicial DESC\n",
    "\"\"\").show()\n"
   ]
  },
  {
   "cell_type": "markdown",
   "id": "f3562be3",
   "metadata": {},
   "source": [
    "DETECÇÃO DE CLIENTES INATIVOS"
   ]
  },
  {
   "cell_type": "code",
   "execution_count": 138,
   "id": "fc25711f",
   "metadata": {},
   "outputs": [
    {
     "name": "stdout",
     "output_type": "stream",
     "text": [
      "+----------+--------------------+------------+\n",
      "|id_cliente|       nome_completo|status_conta|\n",
      "+----------+--------------------+------------+\n",
      "|        24|      Agatha Moreira|     Inativa|\n",
      "|       213|Alexandre Albuque...|     Inativa|\n",
      "|       337|      Alexia Azevedo|     Inativa|\n",
      "|       161|      Alexia Pimenta|     Inativa|\n",
      "|        46|     Alícia Teixeira|     Inativa|\n",
      "|        32|    Amanda Gonçalves|     Inativa|\n",
      "|        65|  Ana Clara Siqueira|     Inativa|\n",
      "|       131|  Ana Julia Teixeira|     Inativa|\n",
      "|       230|     Ana Lívia Viana|     Inativa|\n",
      "|       164|  Ana Sophia Almeida|     Inativa|\n",
      "|       322|   Ana Sophia Vieira|     Inativa|\n",
      "|       156|   Ana Vitória Porto|     Inativa|\n",
      "|       218|       Anthony Ramos|     Inativa|\n",
      "|       363|Antônio da Conceição|     Inativa|\n",
      "|       372|       Arthur Campos|     Inativa|\n",
      "|       386|Arthur Gabriel Ca...|     Inativa|\n",
      "|       351|      Augusto Aragão|     Inativa|\n",
      "|       295|       Aurora Cirino|     Inativa|\n",
      "|       368|       Aurora Moraes|     Inativa|\n",
      "|       415|             Ayla Sá|     Inativa|\n",
      "+----------+--------------------+------------+\n",
      "only showing top 20 rows\n"
     ]
    }
   ],
   "source": [
    "spark.sql(\"\"\"\n",
    "          select\n",
    "              c.id_cliente,\n",
    "              c.nome_completo,\n",
    "              C.status_conta\n",
    "            FROM clientes c\n",
    "                WHERE c.status_conta IN ('Inativa', 'cancelada')\n",
    "            ORDER BY c.nome_completo ASC;\n",
    "          \"\"\").show()"
   ]
  },
  {
   "cell_type": "markdown",
   "id": "96131b59",
   "metadata": {},
   "source": [
    "RANKING DE CATEGORIA GASTO POR SEGMENTO"
   ]
  },
  {
   "cell_type": "code",
   "execution_count": 144,
   "id": "366e0dc5",
   "metadata": {},
   "outputs": [
    {
     "name": "stderr",
     "output_type": "stream",
     "text": [
      "                                                                                \r"
     ]
    },
    {
     "name": "stdout",
     "output_type": "stream",
     "text": [
      "+---------------+-------------+----------------+\n",
      "|categoria_gasto|Top_Categoria|segmento_cliente|\n",
      "+---------------+-------------+----------------+\n",
      "|          lazer|           34|        Standard|\n",
      "|          saúde|           33|        Standard|\n",
      "|         outros|           32|        Standard|\n",
      "|    alimentação|           30|         Economy|\n",
      "|          lazer|           28|         Premium|\n",
      "|          lazer|           27|         Economy|\n",
      "|       educação|           26|         Economy|\n",
      "|        moradia|           26|        Standard|\n",
      "|    alimentação|           26|        Standard|\n",
      "|    alimentação|           23|         Premium|\n",
      "|        moradia|           23|         Economy|\n",
      "|     transporte|           22|        Standard|\n",
      "|         outros|           22|         Economy|\n",
      "|       educação|           22|        Standard|\n",
      "|     transporte|           21|         Premium|\n",
      "|     transporte|           20|         Economy|\n",
      "|       educação|           19|         Premium|\n",
      "|        moradia|           18|         Premium|\n",
      "|         outros|           17|         Premium|\n",
      "|          saúde|           17|         Premium|\n",
      "+---------------+-------------+----------------+\n",
      "only showing top 20 rows\n"
     ]
    }
   ],
   "source": [
    "spark.sql(\"\"\"\n",
    "    SELECT \n",
    "        h.categoria_gasto,\n",
    "        \n",
    "            count(h.categoria_gasto) AS Top_Categoria,\n",
    "        c.segmento_cliente\n",
    "    \n",
    "    FROM transacoes h\n",
    "    INNER JOIN clientes c \n",
    "    \n",
    "        ON h.id_cliente = c.id_cliente\n",
    "    \n",
    "    GROUP BY h.categoria_gasto, c.segmento_cliente\n",
    "    ORDER BY Top_Categoria DESC\n",
    "\"\"\").show()\n"
   ]
  },
  {
   "cell_type": "markdown",
   "id": "9b9f9db0",
   "metadata": {},
   "source": [
    "RANKING DE CATEGORIA DE GASTO POR CLIENTES PREMIUM OU VIP"
   ]
  },
  {
   "cell_type": "code",
   "execution_count": 145,
   "id": "0f328dd4",
   "metadata": {},
   "outputs": [
    {
     "name": "stdout",
     "output_type": "stream",
     "text": [
      "+---------------+-------------+----------------+\n",
      "|categoria_gasto|Top_Categoria|segmento_cliente|\n",
      "+---------------+-------------+----------------+\n",
      "|          lazer|           28|         Premium|\n",
      "|    alimentação|           23|         Premium|\n",
      "|     transporte|           21|         Premium|\n",
      "|       educação|           19|         Premium|\n",
      "|        moradia|           18|         Premium|\n",
      "|         outros|           17|         Premium|\n",
      "|          saúde|           17|         Premium|\n",
      "+---------------+-------------+----------------+\n",
      "\n"
     ]
    }
   ],
   "source": [
    "spark.sql(\"\"\"\n",
    "    SELECT \n",
    "        h.categoria_gasto,\n",
    "        \n",
    "            count(h.categoria_gasto) AS Top_Categoria,\n",
    "        c.segmento_cliente\n",
    "    \n",
    "    FROM transacoes h\n",
    "    INNER JOIN clientes c \n",
    "    \n",
    "        ON h.id_cliente = c.id_cliente\n",
    "    \n",
    "    WHERE c.segmento_cliente IN ('Premium', 'VIP')\n",
    "    \n",
    "    GROUP BY h.categoria_gasto, c.segmento_cliente\n",
    "    ORDER BY Top_Categoria DESC\n",
    "\"\"\").show()\n"
   ]
  },
  {
   "cell_type": "code",
   "execution_count": null,
   "id": "656caf86",
   "metadata": {},
   "outputs": [
    {
     "name": "stdout",
     "output_type": "stream",
     "text": [
      "+----------+--------------------+-----+---------------------+\n",
      "|id_cliente|       nome_completo|idade|score_credito_inicial|\n",
      "+----------+--------------------+-----+---------------------+\n",
      "|       306|    Sra. Laura Pires|   73|               849.25|\n",
      "|        44|Ana Sophia Rodrigues|   35|               847.48|\n",
      "|       399|Sra. Camila Nasci...|   43|               846.42|\n",
      "|       155|      Aylla Carvalho|   19|               845.74|\n",
      "|       290|   Caroline Teixeira|   60|               844.02|\n",
      "|       439|          Ana Vieira|   18|               843.66|\n",
      "|        88|    Vinicius Fonseca|   51|               843.34|\n",
      "|       246|        Diogo Araújo|   66|               842.59|\n",
      "|        43|Srta. Giovanna Pires|   39|               841.92|\n",
      "|        38|     Anthony Moreira|   24|               841.29|\n",
      "|       368|       Aurora Moraes|   71|               840.65|\n",
      "|       415|             Ayla Sá|   48|               839.73|\n",
      "|        65|  Ana Clara Siqueira|   49|               836.91|\n",
      "|       403|     Heloisa Almeida|   25|               834.76|\n",
      "|       202|     Letícia Correia|   59|                834.1|\n",
      "|       201| Maria Laura Pacheco|   58|               832.51|\n",
      "|       457|         Luara Sales|   19|               832.27|\n",
      "|       345|        Zoe Cassiano|   38|               831.89|\n",
      "|       189|         Rhavi Costa|   55|               831.58|\n",
      "|        47|   Dr. Thales da Paz|   37|               828.43|\n",
      "+----------+--------------------+-----+---------------------+\n",
      "only showing top 20 rows\n"
     ]
    }
   ],
   "source": [
    "spark.sql(\"\"\"\n",
    "    SELECT \n",
    "          id_cliente,\n",
    "          nome_completo,\n",
    "          FLOOR(months_between(current_date(), data_nascimento) / 12) AS idade,\n",
    "          score_credito_inicial\n",
    "    FROM \n",
    "         clientes\n",
    "    WHERE \n",
    "          score_credito_inicial > 400.00\n",
    "    ORDER BY \n",
    "          score_credito_inicial DESC\n",
    "\"\"\").show()\n"
   ]
  },
  {
   "cell_type": "markdown",
   "id": "1a42ddef",
   "metadata": {},
   "source": [
    "ANALISES DE FRAUDE TRANSAÇÕES REIJATADAS E LOCALIZAÇÃO INCOERENTES, MULTIPLOS DISPOSITIVOS"
   ]
  },
  {
   "cell_type": "code",
   "execution_count": 158,
   "id": "30ae849b",
   "metadata": {},
   "outputs": [
    {
     "name": "stdout",
     "output_type": "stream",
     "text": [
      "+----------+-------------------------+-----------+----------------+--------------------------+\n",
      "|id_cliente|nome_completo            |dispositivo|status_transacao|ultimas_localizacoes      |\n",
      "+----------+-------------------------+-----------+----------------+--------------------------+\n",
      "|337       |Alexia Azevedo           |celular    |rejeitada       |[{36.381904, 146.173917}] |\n",
      "|106       |Ana Cecília Aparecida    |celular    |rejeitada       |[{-65.306406, 136.011601}]|\n",
      "|106       |Ana Cecília Aparecida    |tablet     |rejeitada       |[{84.54971, -31.852111}]  |\n",
      "|309       |Ana Lívia Teixeira       |celular    |rejeitada       |[{-55.624729, 79.705254}] |\n",
      "|496       |Ana Sampaio              |celular    |rejeitada       |[{45.102336, -93.913398}] |\n",
      "|164       |Ana Sophia Almeida       |celular    |rejeitada       |[{50.948265, -41.039221}] |\n",
      "|205       |Ana Sophia Melo          |celular    |rejeitada       |[{76.840829, 53.042782}]  |\n",
      "|76        |Ana Vitória Cavalcanti   |web        |rejeitada       |[{-79.19378, -108.23092}] |\n",
      "|156       |Ana Vitória Porto        |web        |rejeitada       |[{-37.5047, 72.10075}]    |\n",
      "|11        |André Barbosa            |celular    |rejeitada       |[{0.411287, 0.732483}]    |\n",
      "|497       |Anna Liz Moreira         |tablet     |rejeitada       |[{25.620658, 12.962107}]  |\n",
      "|240       |Anna Liz da Mota         |tablet     |rejeitada       |[{-65.937999, 168.764547}]|\n",
      "|17        |Anthony Marques          |celular    |rejeitada       |[{47.234899, -79.680173}] |\n",
      "|218       |Anthony Ramos            |celular    |rejeitada       |[{62.241031, 9.470071}]   |\n",
      "|71        |Antonella Aragão         |web        |rejeitada       |[{-1.169393, -167.897598}]|\n",
      "|139       |Apollo Borges            |tablet     |rejeitada       |[{-82.259135, 149.059183}]|\n",
      "|367       |Apollo Guerra            |tablet     |rejeitada       |[{37.886142, -6.236693}]  |\n",
      "|386       |Arthur Gabriel Cavalcanti|tablet     |rejeitada       |[{-57.391081, -90.773679}]|\n",
      "|326       |Arthur da Costa          |web        |rejeitada       |[{-33.445834, 51.14314}]  |\n",
      "|351       |Augusto Aragão           |web        |rejeitada       |[{-11.976389, 21.767733}] |\n",
      "+----------+-------------------------+-----------+----------------+--------------------------+\n",
      "only showing top 20 rows\n"
     ]
    }
   ],
   "source": [
    "spark.sql(\"\"\"\n",
    "    SELECT\n",
    "          c.id_cliente,\n",
    "          c.nome_completo, \n",
    "          t.dispositivo,\n",
    "          t.status_transacao,\n",
    "            collect_list(named_struct('latitude',t.latitude,'longitude', t.longitude)) as ultimas_localizacoes\n",
    "            \n",
    "    FROM clientes c \n",
    "    \n",
    "    INNER JOIN transacoes t\n",
    "        ON c.id_cliente = t.id_cliente\n",
    "        \n",
    "    WHERE t.status_transacao = 'rejeitada'\n",
    "    GROUP BY\n",
    "        c.id_cliente,\n",
    "        c.nome_completo,\n",
    "        t.dispositivo,\n",
    "        t.status_transacao\n",
    "    ORDER BY c.nome_completo ASC\n",
    "          \"\"\").show(truncate=False)"
   ]
  },
  {
   "cell_type": "markdown",
   "id": "ad59390a",
   "metadata": {},
   "source": [
    "VERIFICAR PESSOAS QUE TIVERAM TRANSAÇÕES REJEITADAS COM SCORE ALTO ACIMA DE 500.00"
   ]
  },
  {
   "cell_type": "code",
   "execution_count": 163,
   "id": "f8b50dc1",
   "metadata": {},
   "outputs": [
    {
     "name": "stdout",
     "output_type": "stream",
     "text": [
      "+--------------------+----------+----------------+---------------------+----------------+\n",
      "|       Nome_Completo|id_cliente|status_transacao|score_credito_inicial|segmento_cliente|\n",
      "+--------------------+----------+----------------+---------------------+----------------+\n",
      "|   Caroline Teixeira|       290|       rejeitada|               844.02|         Economy|\n",
      "|    Vinicius Fonseca|        88|       rejeitada|               843.34|         Economy|\n",
      "| Maria Laura Pacheco|       201|       rejeitada|               832.51|        Standard|\n",
      "|        Zoe Cassiano|       345|       rejeitada|               831.89|         Economy|\n",
      "|         Rhavi Costa|       189|       rejeitada|               831.58|         Economy|\n",
      "| Vitor Hugo Ferreira|       318|       rejeitada|               825.99|        Standard|\n",
      "|     Valentina Ramos|       302|       rejeitada|               821.85|        Standard|\n",
      "|           Maya Lima|       395|       rejeitada|               815.58|         Economy|\n",
      "|Dra. Amanda Teixeira|       388|       rejeitada|               814.02|         Premium|\n",
      "|          Theo Porto|       437|       rejeitada|               810.88|        Standard|\n",
      "|       Apollo Guerra|       367|       rejeitada|               809.32|         Premium|\n",
      "|         Davi Castro|       158|       rejeitada|               807.03|         Economy|\n",
      "|       Clara Peixoto|       193|       rejeitada|               786.33|         Economy|\n",
      "|      Catarina Gomes|        61|       rejeitada|               785.71|         Premium|\n",
      "|         Noah Vieira|       402|       rejeitada|               783.84|         Premium|\n",
      "|      Hadassa da Paz|       391|       rejeitada|                781.0|         Premium|\n",
      "|     Lavínia Peixoto|       271|       rejeitada|               780.76|         Economy|\n",
      "|        Heloísa Leão|       297|       rejeitada|               778.52|        Standard|\n",
      "|      Dr. Ryan Alves|       321|       rejeitada|               775.08|         Premium|\n",
      "|     Arthur da Costa|       326|       rejeitada|               773.82|        Standard|\n",
      "+--------------------+----------+----------------+---------------------+----------------+\n",
      "only showing top 20 rows\n"
     ]
    }
   ],
   "source": [
    "spark.sql(\"\"\"\n",
    "          \n",
    "        SELECT\n",
    "          distinct(c.nome_completo) as Nome_Completo,\n",
    "          c.id_cliente,\n",
    "          t.status_transacao,\n",
    "          c.score_credito_inicial,\n",
    "          c.segmento_cliente\n",
    "          \n",
    "          \n",
    "        FROM \n",
    "            clientes c\n",
    "        INNER JOIN \n",
    "            transacoes t \n",
    "            \n",
    "            \n",
    "        ON c.id_cliente = t.id_cliente\n",
    "            WHERE t.status_transacao = 'rejeitada'\n",
    "        AND\n",
    "            c.score_credito_inicial >= 500.00\n",
    "        \n",
    "        \n",
    "        ORDER BY c.score_credito_inicial DESC;\n",
    "          \n",
    "          \"\"\").show()"
   ]
  },
  {
   "cell_type": "code",
   "execution_count": null,
   "id": "af280c3d",
   "metadata": {},
   "outputs": [],
   "source": []
  }
 ],
 "metadata": {
  "kernelspec": {
   "display_name": "Python 3",
   "language": "python",
   "name": "python3"
  },
  "language_info": {
   "codemirror_mode": {
    "name": "ipython",
    "version": 3
   },
   "file_extension": ".py",
   "mimetype": "text/x-python",
   "name": "python",
   "nbconvert_exporter": "python",
   "pygments_lexer": "ipython3",
   "version": "3.10.12"
  }
 },
 "nbformat": 4,
 "nbformat_minor": 5
}
